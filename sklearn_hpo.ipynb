{
 "cells": [
  {
   "cell_type": "code",
   "execution_count": 1,
   "metadata": {},
   "outputs": [],
   "source": [
    "import numpy as np\n",
    "import pandas as pd\n",
    "pd.options.display.max_colwidth = 100\n",
    "from sklearn.metrics import mean_squared_error\n",
    "from sklearn.experimental import enable_iterative_imputer\n",
    "from sklearn.impute import SimpleImputer, IterativeImputer, KNNImputer\n",
    "from sklearn.preprocessing import StandardScaler, MinMaxScaler, RobustScaler\n",
    "from sklearn import linear_model\n",
    "from sklearn.model_selection import GridSearchCV, RandomizedSearchCV\n",
    "from sklearn.ensemble import GradientBoostingRegressor, RandomForestRegressor\n",
    "from sklearn.model_selection import train_test_split\n",
    "from sklearn.model_selection import StratifiedKFold, KFold\n",
    "from sklearn.model_selection import cross_val_score\n",
    "from sklearn.pipeline import Pipeline\n",
    "from sklearn.metrics import make_scorer\n",
    "from sklearn.base import RegressorMixin, BaseEstimator\n",
    "from tqdm import tqdm\n"
   ]
  },
  {
   "cell_type": "code",
   "execution_count": 2,
   "metadata": {},
   "outputs": [],
   "source": [
    "df_dev_set = pd.read_csv(\"genentech-404-challenge/dev_set.csv\").set_index([\"RID_HASH\"])\n",
    "df_dev_1 = pd.read_csv(\"genentech-404-challenge/dev_1.csv\").set_index([\"RID_HASH\"])\n",
    "df_dev_2 = pd.read_csv(\"genentech-404-challenge/dev_2.csv\").set_index([\"RID_HASH\"])\n",
    "df_dev_3 = pd.read_csv(\"genentech-404-challenge/dev_3.csv\").set_index([\"RID_HASH\"])\n",
    "df_test_a = pd.read_csv(\"genentech-404-challenge/test_A.csv\").set_index([\"RID_HASH\"])\n",
    "df_test_b = pd.read_csv(\"genentech-404-challenge/test_B.csv\").set_index([\"RID_HASH\"])\n"
   ]
  },
  {
   "cell_type": "code",
   "execution_count": 3,
   "metadata": {},
   "outputs": [],
   "source": [
    "scaler = MinMaxScaler()\n"
   ]
  },
  {
   "cell_type": "code",
   "execution_count": 4,
   "metadata": {},
   "outputs": [],
   "source": [
    "df_dev_set_standardized = pd.DataFrame(\n",
    "    scaler.fit_transform(df_dev_set), columns=df_dev_set.columns, index=df_dev_set.index\n",
    ")\n",
    "df_dev_1_standardized = pd.DataFrame(\n",
    "    scaler.transform(df_dev_1), columns=df_dev_1.columns, index=df_dev_1.index\n",
    ")\n",
    "df_dev_2_standardized = pd.DataFrame(\n",
    "    scaler.transform(df_dev_2), columns=df_dev_2.columns, index=df_dev_2.index\n",
    ")\n",
    "df_dev_3_standardized = pd.DataFrame(\n",
    "    scaler.transform(df_dev_3), columns=df_dev_3.columns, index=df_dev_3.index\n",
    ")\n",
    "df_test_a_standardized = pd.DataFrame(\n",
    "    scaler.transform(df_test_a), columns=df_test_a.columns, index=df_test_a.index\n",
    ")\n",
    "df_test_b_standardized = pd.DataFrame(\n",
    "    scaler.transform(df_test_b), columns=df_test_b.columns, index=df_test_b.index\n",
    ")\n"
   ]
  },
  {
   "cell_type": "code",
   "execution_count": 5,
   "metadata": {},
   "outputs": [],
   "source": [
    "df_x, df_y = [], []\n",
    "for i, df in enumerate(\n",
    "    [df_dev_1_standardized, df_dev_2_standardized, df_dev_3_standardized]\n",
    "):\n",
    "    mask = df.isnull().sum(axis=1) > 0\n",
    "    df_temp = df[mask].reset_index()\n",
    "    df_temp[\"pattern\"] = i\n",
    "    df_x.append(df_temp)\n",
    "    df_y.append(df_dev_set_standardized[mask])\n",
    "df_x = pd.concat(df_x).set_index([\"RID_HASH\", \"pattern\"])\n",
    "df_y = pd.concat(df_y)\n"
   ]
  },
  {
   "cell_type": "code",
   "execution_count": 6,
   "metadata": {},
   "outputs": [],
   "source": [
    "def get_mse(\n",
    "    y_true: np.ndarray, y_pred: np.ndarray, *, multioutput: str = \"uniform_average\"\n",
    "):\n",
    "    assert y_true.shape == y_pred.shape\n",
    "    return mean_squared_error(y_true, y_pred, multioutput=multioutput)\n"
   ]
  },
  {
   "cell_type": "code",
   "execution_count": 7,
   "metadata": {},
   "outputs": [],
   "source": [
    "class ImputerRegressor(BaseEstimator, RegressorMixin):\n",
    "    def __init__(self, imputer) -> None:\n",
    "        self.imputer = imputer\n",
    "\n",
    "    def fit(self, x, y):\n",
    "        self.imputer.fit(x, y)\n",
    "\n",
    "    def predict(self, x):\n",
    "        return self.imputer.transform(x)\n"
   ]
  },
  {
   "cell_type": "code",
   "execution_count": 8,
   "metadata": {},
   "outputs": [],
   "source": [
    "X_train, X_test, y_train, y_test = train_test_split(\n",
    "    df_x.values,\n",
    "    df_y.values,\n",
    "    test_size=0.2,\n",
    "    random_state=42,\n",
    "    stratify=df_x.reset_index().pattern,\n",
    ")\n",
    "\n",
    "pipelines = [\n",
    "    ImputerRegressor(SimpleImputer()),\n",
    "    ImputerRegressor(KNNImputer()),\n",
    "    ImputerRegressor(IterativeImputer()),\n",
    "]\n",
    "\n",
    "param_si = [{\"imputer__strategy\": [\"mean\", \"median\", \"most_frequent\"]}]\n",
    "\n",
    "param_knn = [\n",
    "    {\n",
    "        \"imputer__n_neighbors\": list(\n",
    "            range(5, 2048)\n",
    "        ),  # [5, 10, 32, 64, 128, 256, 512, 1024, 2048],\n",
    "        \"imputer__weights\": [\"uniform\", \"distance\"],\n",
    "    }\n",
    "]\n",
    "\n",
    "param_it = [\n",
    "    {\n",
    "        \"imputer__estimator\": [linear_model.BayesianRidge()],\n",
    "        \"imputer__max_iter\": [50, 100, 200],\n",
    "        \"imputer__imputation_order\": [\"ascending\", \"descending\", \"random\"],\n",
    "    },\n",
    "    {\n",
    "        \"imputer__estimator\": [linear_model.Ridge()],\n",
    "        \"imputer__estimator__alpha\": [0.001, 0.01, 0.1, 1.0, 2.0, 5.0, 10, 50, 100],\n",
    "        \"imputer__imputation_order\": [\"ascending\", \"descending\", \"random\"],\n",
    "    },\n",
    "    {\n",
    "        \"imputer__estimator\": [linear_model.ElasticNet()],\n",
    "        \"imputer__estimator__alpha\": [0.001, 0.01, 0.1, 1.0, 2.0, 5.0, 10, 50, 100],\n",
    "        \"imputer__estimator__l1_ratio\": [0.001, 0.1, 0.3, 0.5, 0.7, 0.9, 0.99],\n",
    "        \"imputer__max_iter\": [100, 200],\n",
    "        \"imputer__imputation_order\": [\"ascending\", \"descending\", \"random\"],\n",
    "    },\n",
    "    {\n",
    "        \"imputer__estimator\": [RandomForestRegressor(random_state=0)],\n",
    "        \"imputer__estimator__criterion\": [\"squared_error\"],\n",
    "        \"imputer__estimator__n_estimators\": list(range(10, 100, 5)),\n",
    "        \"imputer__estimator__max_depth\": list(range(25)),\n",
    "        \"imputer__estimator__min_samples_split\":[2, 0.1, 0.2, 0.25, 0.3],\n",
    "        \"imputer__max_iter\": [100, 200],\n",
    "        \"imputer__imputation_order\": [\"ascending\", \"descending\", \"random\"],\n",
    "    },\n",
    "    # {\n",
    "    #     \"imputer__estimator\": [linear_model.HuberRegressor()],\n",
    "    #     \"imputer__estimator__epsilon\": [1.01, 1.2, 1.35, 1.5, 2.0],\n",
    "    #     \"imputer__estimator__alpha\": [0.00001, 0.0001, 0.001, 0.01],\n",
    "    #     \"imputer__max_iter\": [500],\n",
    "    #     \"imputer__imputation_order\": [\"ascending\", \"descending\", \"random\"],\n",
    "    # },\n",
    "    # {\n",
    "    #     \"imputer__estimator\": [GradientBoostingRegressor(random_state=0)],\n",
    "    #     \"imputer__estimator__loss\": [\"squared_error\", \"huber\"],\n",
    "    #     \"imputer__estimator__learning_rate\": [0.5, 0.1, 0.05, 0.01, 0.005],\n",
    "    #     \"imputer__estimator__max_depth\": [1, 3, 5],\n",
    "    #     \"imputer__max_iter\": [500],\n",
    "    #     \"imputer__imputation_order\": [\"ascending\", \"descending\", \"random\"],\n",
    "    # },\n",
    "]\n",
    "params = [param_si, param_knn, param_it]\n",
    "names = [\"simple_imputer\", \"knn\", \"iterative_imputer\"]\n",
    "\n",
    "searchcvs = {}\n",
    "inner_cv = KFold(n_splits=2, shuffle=True, random_state=4)\n",
    "\n",
    "for pgrid, est, name in zip(\n",
    "    params[1:],  # bypass simple imputer\n",
    "    pipelines[1:],\n",
    "    names[1:],\n",
    "):\n",
    "    # gcv = GridSearchCV(\n",
    "    #     estimator=est,\n",
    "    #     param_grid=pgrid,\n",
    "    #     scoring=make_scorer(get_mse, greater_is_better=False),\n",
    "    #     n_jobs=1,\n",
    "    #     cv=inner_cv,\n",
    "    #     verbose=0,\n",
    "    #     refit=True,\n",
    "    # )\n",
    "    gcv = RandomizedSearchCV(\n",
    "        estimator=est,\n",
    "        param_distributions=pgrid,\n",
    "        # scoring=make_scorer(get_mse, greater_is_better=False),\n",
    "        scoring=\"neg_mean_squared_error\",\n",
    "        n_jobs=-1,\n",
    "        cv=inner_cv,\n",
    "        verbose=0,\n",
    "        refit=True,\n",
    "        n_iter=200,\n",
    "    )\n",
    "\n",
    "    searchcvs[name] = gcv\n"
   ]
  },
  {
   "cell_type": "code",
   "execution_count": 9,
   "metadata": {},
   "outputs": [
    {
     "name": "stderr",
     "output_type": "stream",
     "text": [
      "  0%|          | 0/2 [00:00<?, ?it/s]"
     ]
    }
   ],
   "source": [
    "outer_cv = KFold(n_splits=3, shuffle=True, random_state=5)\n",
    "outer_scores = {}\n",
    "\n",
    "for name, gs_est in tqdm(sorted(searchcvs.items())):\n",
    "    nested_score = cross_val_score(\n",
    "        gs_est,\n",
    "        X=X_train,\n",
    "        y=y_train,\n",
    "        cv=outer_cv,\n",
    "        scoring=\"neg_mean_squared_error\",\n",
    "        n_jobs=1,\n",
    "    )\n",
    "    outer_scores[name] = nested_score\n",
    "    print(f\"{name}: outer mse {-nested_score.mean():.5f} +/- {nested_score.std():.5f}\")\n"
   ]
  },
  {
   "cell_type": "code",
   "execution_count": null,
   "metadata": {},
   "outputs": [],
   "source": [
    "mean_outer_scores = {name: abs(outer_scores[name].mean()) for name in outer_scores}\n",
    "algo_best = min(mean_outer_scores, key=mean_outer_scores.get)\n",
    "algo = searchcvs[algo_best]\n",
    "print(f\"Best imputer: {algo_best}\")\n"
   ]
  },
  {
   "cell_type": "code",
   "execution_count": null,
   "metadata": {},
   "outputs": [],
   "source": [
    "algo.fit(X_train, y_train)\n",
    "train_perf = mean_squared_error(y_true=y_train, y_pred=algo.predict(X_train))\n",
    "test_perf = mean_squared_error(y_true=y_test, y_pred=algo.predict(X_test))\n",
    "\n",
    "# evaluate performance and compare to cross-validation results\n",
    "\n",
    "print(f\"Best Parameters: {searchcvs[algo_best].best_params_}\")\n",
    "print(f\"MSE (mean cross-vaidated score of the best_estimator): {-algo.best_score_:.5f}\")\n",
    "print(f\"Training MSE: {train_perf:.5f}\")\n",
    "print(f\"Test MSE: {test_perf:.5f}\")\n"
   ]
  },
  {
   "cell_type": "code",
   "execution_count": null,
   "metadata": {},
   "outputs": [],
   "source": [
    "get_mse(y_test, algo.predict(X_test), multioutput=\"raw_values\")"
   ]
  },
  {
   "cell_type": "code",
   "execution_count": null,
   "metadata": {},
   "outputs": [],
   "source": [
    "# # refit with whole data\n",
    "# algo.fit(df_dev_set_standardized.values, df_dev_set_standardized.values)"
   ]
  },
  {
   "cell_type": "code",
   "execution_count": null,
   "metadata": {},
   "outputs": [],
   "source": [
    "def get_submission_df(\n",
    "    ref_df: pd.DataFrame, df_pred_test_a: pd.DataFrame, df_pred_test_b: pd.DataFrame\n",
    "):\n",
    "    df_submit = []\n",
    "    for df, test_type in zip([df_pred_test_a, df_pred_test_b], [\"test_A\", \"test_B\"]):\n",
    "        df_new = pd.melt(\n",
    "            df,\n",
    "            id_vars=[\"RID_HASH\", \"VISCODE\"],\n",
    "            value_vars=[\n",
    "                \"AGE\",\n",
    "                \"PTGENDER_num\",\n",
    "                \"PTEDUCAT\",\n",
    "                \"DX_num\",\n",
    "                \"APOE4\",\n",
    "                \"CDRSB\",\n",
    "                \"MMSE\",\n",
    "                \"ADAS13\",\n",
    "                \"Ventricles\",\n",
    "                \"Hippocampus\",\n",
    "                \"WholeBrain\",\n",
    "                \"Entorhinal\",\n",
    "                \"Fusiform\",\n",
    "                \"MidTemp\",\n",
    "            ],\n",
    "        ).rename(columns={\"value\": \"Predicted\"})\n",
    "        df_new[\"Id\"] = df_new.apply(\n",
    "            lambda x: f\"{x['RID_HASH']}_{x['VISCODE']}_{x['variable']}_{test_type}\",\n",
    "            axis=1,\n",
    "        )\n",
    "        df_submit.append(df_new[[\"Id\", \"Predicted\"]])\n",
    "    df_submit = pd.concat(df_submit).set_index(\"Id\")\n",
    "    return df_submit.loc[ref_df[\"Id\"], :]"
   ]
  },
  {
   "cell_type": "code",
   "execution_count": null,
   "metadata": {},
   "outputs": [],
   "source": [
    "def get_prediction_df(test_df: pd.DataFrame):\n",
    "    df = (\n",
    "        pd.DataFrame(\n",
    "            scaler.inverse_transform(algo.predict(test_df.values)),\n",
    "            columns=test_df.columns,\n",
    "            index=test_df.index,\n",
    "        )\n",
    "        .reset_index()\n",
    "        # .astype({\"VISCODE\": int})\n",
    "    )\n",
    "    df[\"VISCODE\"] = df[\"VISCODE\"].apply(round)\n",
    "    return df\n"
   ]
  },
  {
   "cell_type": "code",
   "execution_count": null,
   "metadata": {},
   "outputs": [],
   "source": [
    "df_sample_sub = pd.read_csv(\"genentech-404-challenge/sample_submission.csv\")"
   ]
  },
  {
   "cell_type": "code",
   "execution_count": null,
   "metadata": {},
   "outputs": [],
   "source": [
    "df_submission = get_submission_df(\n",
    "    df_sample_sub,\n",
    "    get_prediction_df(df_test_a_standardized),\n",
    "    get_prediction_df(df_test_b_standardized),\n",
    ")\n"
   ]
  },
  {
   "cell_type": "code",
   "execution_count": null,
   "metadata": {},
   "outputs": [],
   "source": [
    "df_submission.to_csv(\"sklearn_hpo_10242022.csv\")"
   ]
  },
  {
   "cell_type": "code",
   "execution_count": null,
   "metadata": {},
   "outputs": [],
   "source": []
  }
 ],
 "metadata": {
  "kernelspec": {
   "display_name": "Python 3.9.13 ('kaggle_genentech-404-challenge')",
   "language": "python",
   "name": "python3"
  },
  "language_info": {
   "codemirror_mode": {
    "name": "ipython",
    "version": 3
   },
   "file_extension": ".py",
   "mimetype": "text/x-python",
   "name": "python",
   "nbconvert_exporter": "python",
   "pygments_lexer": "ipython3",
   "version": "3.9.13"
  },
  "orig_nbformat": 4,
  "vscode": {
   "interpreter": {
    "hash": "9b1b4e6b55d601fd1eb4b734b7c7b613a61fa9d31c944763ca84ddf1bd43ea2d"
   }
  }
 },
 "nbformat": 4,
 "nbformat_minor": 2
}
